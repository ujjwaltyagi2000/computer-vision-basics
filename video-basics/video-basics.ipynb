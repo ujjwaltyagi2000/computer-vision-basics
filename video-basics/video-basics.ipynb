{
 "cells": [
  {
   "cell_type": "markdown",
   "metadata": {},
   "source": [
    "# **Video Basics**"
   ]
  },
  {
   "cell_type": "markdown",
   "metadata": {},
   "source": [
    "## Connecting to camera"
   ]
  },
  {
   "cell_type": "code",
   "execution_count": 23,
   "metadata": {},
   "outputs": [],
   "source": [
    "import cv2\n",
    "cap=cv2.VideoCapture(0) #returns a stream of images\n",
    "#create an object, it's a practice to name it cap\n",
    "#call cv's VideoCapture() function and pass 0 as a parameter.\n",
    "#This opens your default camera\n",
    "\n",
    "width=int(cap.get(cv2.CAP_PROP_FRAME_WIDTH)) #type casting as int because CAP_PROP_FRAME_WIDTH returns float\n",
    "height=int(cap.get(cv2.CAP_PROP_FRAME_HEIGHT))\n",
    "\n",
    "writer=cv2.VideoWriter('sample_vid.mp4', cv2.VideoWriter_fourcc(*'DIVX'), cv2.CAP_PROP_FRAME_COUNT, (width, height)) \n",
    "#writer is an object being used to create a video file\n",
    "#fourcc is a 4-byte code used to specify the video codec. \n",
    "#Depending upon OS, you'll change the codec\n",
    "#DIVX --> Windows, XVID --> MACOS or LINUX\n",
    "\n",
    "while True:\n",
    "\n",
    "    ret, frame = cap.read() #tuple unpacking\n",
    "\n",
    "    #OPERATIONS ON VIDEO BELOW:\n",
    "\n",
    "    # gray = cv2.cvtColor(frame,cv2.COLOR_BGR2GRAY) #Use this to see black and white vid\n",
    "\n",
    "    writer.write(frame)\n",
    "    \n",
    "    cv2.imshow('frame', frame)\n",
    "\n",
    "    if cv2.waitKey(1) & 0xFF==27:\n",
    "\n",
    "        break\n",
    "\n",
    "cap.release() #stops video capture\n",
    "cv2.destroyAllWindows()"
   ]
  },
  {
   "cell_type": "code",
   "execution_count": null,
   "metadata": {},
   "outputs": [],
   "source": []
  }
 ],
 "metadata": {
  "kernelspec": {
   "display_name": "Python 3.6.6 ('python-cvcourse')",
   "language": "python",
   "name": "python3"
  },
  "language_info": {
   "codemirror_mode": {
    "name": "ipython",
    "version": 3
   },
   "file_extension": ".py",
   "mimetype": "text/x-python",
   "name": "python",
   "nbconvert_exporter": "python",
   "pygments_lexer": "ipython3",
   "version": "3.6.6"
  },
  "orig_nbformat": 4,
  "vscode": {
   "interpreter": {
    "hash": "917fc91ddf704f0bc98087d69836f669db8aa3bd8504966846fd272580d50e4a"
   }
  }
 },
 "nbformat": 4,
 "nbformat_minor": 2
}
