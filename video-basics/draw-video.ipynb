{
 "cells": [
  {
   "cell_type": "markdown",
   "metadata": {},
   "source": [
    "# **Drawing on Video**"
   ]
  },
  {
   "cell_type": "markdown",
   "metadata": {},
   "source": [
    "The procedure is similiar to drawing on an image, because here we'll be dawing on a frame."
   ]
  },
  {
   "cell_type": "markdown",
   "metadata": {},
   "source": [
    "### Drawing static objects:"
   ]
  },
  {
   "cell_type": "code",
   "execution_count": 4,
   "metadata": {},
   "outputs": [],
   "source": [
    "import cv2\n",
    "\n",
    "cap = cv2.VideoCapture(0)\n",
    "\n",
    "width = int(cap.get(cv2.CAP_PROP_FRAME_WIDTH))\n",
    "height = int(cap.get(cv2.CAP_PROP_FRAME_HEIGHT))\n",
    "\n",
    "#Top left corner\n",
    "x = width//2 #returns an integer instead of float\n",
    "y = height//2\n",
    "\n",
    "#width and height of rectangle:\n",
    "w = width//4\n",
    "h = height//4\n",
    "\n",
    "#Bottom right corner: x+w, y+h\n",
    "\n",
    "#Drawing a rectangle:\n",
    "\n",
    "while True:\n",
    "\n",
    "    ret, frame = cap.read()\n",
    "\n",
    "    cv2.rectangle(frame, (x,y), (x+w, y+h), color=(0,0,255), thickness=4)\n",
    "\n",
    "    cv2.imshow('Drawing', frame)\n",
    "\n",
    "    if cv2.waitKey(10) & 0xFF==27:\n",
    "        break\n",
    "\n",
    "cap.release()\n",
    "cv2.destroyAllWindows()"
   ]
  },
  {
   "cell_type": "markdown",
   "metadata": {},
   "source": [
    "### Interactively drawing on a video:"
   ]
  },
  {
   "cell_type": "markdown",
   "metadata": {},
   "source": [
    "This is done when some object is being detected and tracked, the coordinates of the drawn object keeps changing. Referring to the above code, in order to move the rectangle we only need to play with its corner coordinates and make them variables that change constantly instead of the currently used static values."
   ]
  },
  {
   "cell_type": "markdown",
   "metadata": {},
   "source": [
    "The program below will make a rectangle on the video by detecting left mouse button click. On the first click it will assign the top left corner coordinates of the rectangle, and on the second click the bottom right corner coordinates. The rectangle will remain on screen until mouse is clicked again."
   ]
  },
  {
   "cell_type": "code",
   "execution_count": 3,
   "metadata": {},
   "outputs": [],
   "source": [
    "import cv2\n",
    "\n",
    "# Callback function rectangle\n",
    "def draw_rectangle(event, x, y, flags, param):\n",
    "    \n",
    "    global pt1, pt2, topLeft_clicked, botRight_clicked\n",
    "\n",
    "    if event == cv2.EVENT_LBUTTONDOWN:\n",
    "\n",
    "        #Reset the rectangle (It checks if rectangle is already there)\n",
    "        if topLeft_clicked == True and botRight_clicked == True:\n",
    "            pt1=(0,0)\n",
    "            pt2=(0,0)\n",
    "            topLeft_clicked=False\n",
    "            botRight_clicked=False\n",
    "\n",
    "        if topLeft_clicked == False:\n",
    "            pt1 = (x,y)\n",
    "            topLeft_clicked = True\n",
    "\n",
    "        elif botRight_clicked == False:\n",
    "            pt2=(x,y)\n",
    "            botRight_clicked = True\n",
    "\n",
    "# Global variables\n",
    "pt1=(0,0)\n",
    "pt2=(0,0)\n",
    "topLeft_clicked=False\n",
    "botRight_clicked=False\n",
    "\n",
    "# Connect to the callback\n",
    "cap = cv2.VideoCapture(0)\n",
    "\n",
    "cv2.namedWindow('Testing')\n",
    "\n",
    "cv2.setMouseCallback('Testing', draw_rectangle)\n",
    "\n",
    "while True:\n",
    "\n",
    "    ret, frame = cap.read()\n",
    "\n",
    "    # Drawing on the frame based off the global variables\n",
    "    if topLeft_clicked:\n",
    "\n",
    "        cv2.circle(frame, center=pt1, radius=5, color=(0,0,255), thickness=-1) #visual marker to show where you clicked\n",
    "\n",
    "    if topLeft_clicked and botRight_clicked:\n",
    "\n",
    "        cv2.rectangle(frame, pt1, pt2, (0,0,255), 3)\n",
    "\n",
    "    cv2.imshow('Testing', frame)\n",
    "\n",
    "    if cv2.waitKey(10) & 0xFF==27:\n",
    "        break\n",
    "\n",
    "cap.release()\n",
    "cv2.destroyAllWindows()"
   ]
  }
 ],
 "metadata": {
  "kernelspec": {
   "display_name": "Python 3.6.6 ('python-cvcourse')",
   "language": "python",
   "name": "python3"
  },
  "language_info": {
   "codemirror_mode": {
    "name": "ipython",
    "version": 3
   },
   "file_extension": ".py",
   "mimetype": "text/x-python",
   "name": "python",
   "nbconvert_exporter": "python",
   "pygments_lexer": "ipython3",
   "version": "3.6.6"
  },
  "orig_nbformat": 4,
  "vscode": {
   "interpreter": {
    "hash": "917fc91ddf704f0bc98087d69836f669db8aa3bd8504966846fd272580d50e4a"
   }
  }
 },
 "nbformat": 4,
 "nbformat_minor": 2
}
