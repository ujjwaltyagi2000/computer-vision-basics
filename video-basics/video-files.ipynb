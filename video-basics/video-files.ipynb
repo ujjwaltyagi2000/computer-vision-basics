{
 "cells": [
  {
   "cell_type": "markdown",
   "metadata": {},
   "source": [
    "# Using Video Files:"
   ]
  },
  {
   "cell_type": "code",
   "execution_count": 1,
   "metadata": {},
   "outputs": [],
   "source": [
    "import cv2\n",
    "\n",
    "cap=cv2.VideoCapture('sample_vid.avi')\n",
    "\n",
    "if cap.isOpened() == False:\n",
    "    print(\"File not opened!\")\n",
    "\n",
    "while cap.isOpened():\n",
    "    ret, frame=cap.read()\n",
    "\n",
    "    if ret == True:\n",
    "\n",
    "        cv2.imshow('Your Video', frame)\n",
    "\n",
    "        if cv2.waitKey(10) & 0xFF==27:\n",
    "            break\n",
    "\n",
    "    else:\n",
    "        break\n",
    "\n",
    "cap.release()\n",
    "cv2.destroyAllWindows()"
   ]
  },
  {
   "cell_type": "markdown",
   "metadata": {},
   "source": [
    "The video displayed runs very fast because it doesn't run on real time. Speed of video depends on how quickly the system is able to load the frames and display it."
   ]
  },
  {
   "cell_type": "markdown",
   "metadata": {},
   "source": []
  }
 ],
 "metadata": {
  "kernelspec": {
   "display_name": "Python 3.6.6 ('python-cvcourse')",
   "language": "python",
   "name": "python3"
  },
  "language_info": {
   "codemirror_mode": {
    "name": "ipython",
    "version": 3
   },
   "file_extension": ".py",
   "mimetype": "text/x-python",
   "name": "python",
   "nbconvert_exporter": "python",
   "pygments_lexer": "ipython3",
   "version": "3.6.6"
  },
  "orig_nbformat": 4,
  "vscode": {
   "interpreter": {
    "hash": "917fc91ddf704f0bc98087d69836f669db8aa3bd8504966846fd272580d50e4a"
   }
  }
 },
 "nbformat": 4,
 "nbformat_minor": 2
}
